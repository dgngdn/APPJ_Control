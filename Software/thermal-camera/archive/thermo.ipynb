{
 "cells": [
  {
   "cell_type": "code",
   "execution_count": 15,
   "metadata": {
    "collapsed": true
   },
   "outputs": [],
   "source": [
    "#!/usr/bin/python\n",
    "\n",
    "import os\n",
    "import math\n",
    "import struct\n",
    "import re\n",
    "import numpy as np\n",
    "import matplotlib as mpl\n",
    "from matplotlib import pyplot as plt\n",
    "\n",
    "### REFERENCES\n",
    "# https://docs.python.org/2/library/struct.html\n",
    "# http://stackoverflow.com/questions/1163459/reading-integers-from-binary-file-in-python\n",
    "# http://matplotlib.org/examples/pylab_examples/subplots_demo.html\n",
    "# http://stackoverflow.com/questions/18704353/correcting-matplotlib-colorbar-ticks\n",
    "\n",
    "# temperature function\n",
    "def get_temp(val):\n",
    "    #temp = (int(val)-7000)/15 #fahrenheit\n",
    "    temp = (((int(val)-7000)/15)-32)*(5./9)+5 #celcius\n",
    "    return str(round(temp))\n",
    "\n",
    "# takes a raw thermography file and plots it\n",
    "def temp_plot(filename):\n",
    "    \n",
    "    # open up the file and dump the first two words\n",
    "    fin = open(filename,\"rb\")\n",
    "    highval = struct.unpack('H', fin.read(2))\n",
    "    lowval = struct.unpack('H', fin.read(2))\n",
    "    \n",
    "    # dump the 80x60 thermography data into a list\n",
    "    a = []\n",
    "    while True:\n",
    "        try: a.append(struct.unpack('H', fin.read(2)))\n",
    "        except: break\n",
    "\n",
    "    # get thermography data into a 2D array\n",
    "    b = np.zeros([60,80])\n",
    "    for i in range(0,len(a)):\n",
    "        # print([int(math.floor(i/80)), i%80])\n",
    "        b[int(math.floor(i/80))][i%80] = ''.join(str(a[i])[1:-2])\n",
    "\n",
    "\n",
    "    # set some bounds for my colormapping\n",
    "    tmin = 7900\n",
    "    tmax = 10015\n",
    "\n",
    "    # plot my colormapped data\n",
    "    fig1 = plt.figure()\n",
    "    plt1 = plt.subplot(1,1,1)\n",
    "    img = plt1.imshow(b,interpolation='none',cmap=plt.cm.gnuplot)\n",
    "    #img = plt1.imshow(b,interpolation='none',cmap=plt.cm.gnuplot,vmin=tmin,vmax=tmax)\n",
    "\n",
    "    # make a color bar\n",
    "    # http://matplotlib.org/api/pyplot_api.html#matplotlib.pyplot.colorbar\n",
    "    # http://pyhogs.github.io/colormap-examples.html\n",
    "    # http://stackoverflow.com/questions/7875688/how-can-i-create-a-standard-colorbar-for-a-series-of-plots-in-python\n",
    "    ttick = (tmax-tmin)/14\n",
    "    ticks = range(tmin,tmax,ttick)\n",
    "    cb = plt.colorbar(img,cmap=plt.cm.gnuplot)\n",
    "    #cb.set_clim(vmin=tmin,vmax=tmax)\n",
    "    cb.set_ticks(ticks)\n",
    "    cb.set_ticklabels([get_temp(val) for val in ticks])\n",
    "    #cb.update_ticks()\n",
    "\n",
    "    # save the current figure\n",
    "    #fig1.savefig(str(filename)+'.png')\n",
    "    #plt.close()\n",
    "    plt.show()\n",
    "\n"
   ]
  },
  {
   "cell_type": "code",
   "execution_count": 17,
   "metadata": {
    "collapsed": false
   },
   "outputs": [
    {
     "name": "stdout",
     "output_type": "stream",
     "text": [
      "/ctrl/data/exp/in/thermograph/thermograph_2016-12-15T15:53:45.bin\n"
     ]
    },
    {
     "data": {
      "image/png": "[encoded data removed]",
      "text/plain": [
       "<matplotlib.figure.Figure at 0x6e752130>"
      ]
     },
     "metadata": {},
     "output_type": "display_data"
    }
   ],
   "source": [
    "%matplotlib inline\n",
    "stem = '/ctrl/data/exp/in/thermograph'\n",
    "fol = ''\n",
    "\n",
    "datas = sorted(os.listdir(stem+fol))\n",
    "# print datas\n",
    "# for data in datas:\n",
    "#     if ((len(re.findall('.bin', data)) != 0) & (len(re.findall('.bin.', data)) == 0)):\n",
    "#         print(data)\n",
    "#         #temp_plot(fol+data)\n",
    "latest = os.path.join(stem,datas[-1])\n",
    "print(latest)\n",
    "temp_plot(latest)"
   ]
  },
  {
   "cell_type": "code",
   "execution_count": null,
   "metadata": {
    "collapsed": true
   },
   "outputs": [],
   "source": []
  }
 ],
 "metadata": {
  "kernelspec": {
   "display_name": "Python 2",
   "language": "python",
   "name": "python2"
  },
  "language_info": {
   "codemirror_mode": {
    "name": "ipython",
    "version": 2
   },
   "file_extension": ".py",
   "mimetype": "text/x-python",
   "name": "python",
   "nbconvert_exporter": "python",
   "pygments_lexer": "ipython2",
   "version": "2.7.10"
  }
 },
 "nbformat": 4,
 "nbformat_minor": 0
}
